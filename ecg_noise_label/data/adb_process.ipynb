{
 "cells": [
  {
   "cell_type": "code",
   "id": "initial_id",
   "metadata": {
    "collapsed": true,
    "ExecuteTime": {
     "start_time": "2025-03-10T04:44:50.169455Z"
    }
   },
   "source": [
    "import time\n",
    "from collections import Counter\n",
    "import wfdb\n",
    "import numpy as np\n",
    "from scipy.signal import resample\n",
    "import pywt\n",
    "from sklearn.utils import shuffle\n",
    "from sklearn.model_selection import train_test_split\n",
    "from collections import Counter"
   ],
   "outputs": [],
   "execution_count": 1
  },
  {
   "metadata": {
    "ExecuteTime": {
     "end_time": "2025-03-10T04:44:31.713655Z",
     "start_time": "2025-03-10T04:44:31.698528Z"
    }
   },
   "cell_type": "code",
   "source": [
    "def WTfilt_1d(sig):\n",
    "    \"\"\"\n",
    "    对信号进行小波变换滤波\n",
    "    :param sig: 输入信号，1-d array\n",
    "    :return: 小波滤波后的信号，1-d array\n",
    "    \"\"\"\n",
    "    coeffs = pywt.wavedec(sig, 'db6', level=9)\n",
    "    coeffs[-1] = np.zeros_like(coeffs[-1])\n",
    "    coeffs[-2] = np.zeros_like(coeffs[-2])\n",
    "    coeffs[0] = np.zeros_like(coeffs[0])\n",
    "    sig_filt = pywt.waverec(coeffs, 'db6')\n",
    "    return sig_filt\n",
    "\n",
    "# def Z_ScoreNormalization(data):\n",
    "#     mean = np.mean(data, axis=0)\n",
    "#     std_dev = np.std(data, axis=0)\n",
    "#     normalized_data = (data - mean) / std_dev\n",
    "#\n",
    "#     return normalized_data\n",
    "\n",
    "def min_max_normalization(signal, new_min=0, new_max=1):\n",
    "    signal = np.array(signal)\n",
    "    min_val = np.min(signal)\n",
    "    max_val = np.max(signal)\n",
    "\n",
    "    if max_val == min_val:\n",
    "        return np.zeros_like(signal)  # 避免除零错误，所有值相同则返回全零\n",
    "\n",
    "    norm_signal = (signal - min_val) / (max_val - min_val)  # 归一化到 [0,1]\n",
    "    norm_signal = norm_signal * (new_max - new_min) + new_min  # 缩放到 [new_min, new_max]\n",
    "\n",
    "    return norm_signal"
   ],
   "id": "aa281473de4cd004",
   "outputs": [],
   "execution_count": 2
  },
  {
   "metadata": {
    "ExecuteTime": {
     "end_time": "2025-03-10T04:44:31.809004Z",
     "start_time": "2025-03-10T04:44:31.793071Z"
    }
   },
   "cell_type": "code",
   "source": [
    "# 检查文件夹是否存在\n",
    "data_folder = 'mit-bih-arrhythmia-database-1.0.0'\n",
    "records_file = data_folder + '/RECORDS'\n",
    "\n",
    "\n",
    "with open(records_file, 'r') as file:\n",
    "    dat_files = file.read().splitlines()  # 读取所有行并去除换行符\n",
    "    print(dat_files)"
   ],
   "id": "8653a4fc40612d69",
   "outputs": [
    {
     "name": "stdout",
     "output_type": "stream",
     "text": [
      "['100', '101', '102', '103', '104', '105', '106', '107', '108', '109', '111', '112', '113', '114', '115', '116', '117', '118', '119', '121', '122', '123', '124', '200', '201', '202', '203', '205', '207', '208', '209', '210', '212', '213', '214', '215', '217', '219', '220', '221', '222', '223', '228', '230', '231', '232', '233', '234']\n"
     ]
    }
   ],
   "execution_count": 3
  },
  {
   "metadata": {
    "ExecuteTime": {
     "end_time": "2025-03-10T04:44:31.840671Z",
     "start_time": "2025-03-10T04:44:31.824780Z"
    }
   },
   "cell_type": "code",
   "source": [
    "\n",
    "def data_seg(signal, r_peaks, ann_label, sam_rate):\n",
    "\n",
    "    AAMI_MIT  = ['L', 'N', 'R', 'V']\n",
    "\n",
    "    data_seg = []\n",
    "    label_seg = []\n",
    "\n",
    "    signal = signal.flatten()\n",
    "    signal = WTfilt_1d(signal)\n",
    "\n",
    "\n",
    "    for i in range(len(r_peaks)):\n",
    "        start = r_peaks[i] - (sam_rate // 2)\n",
    "        end = r_peaks[i] + (sam_rate // 2)\n",
    "        if end > len(signal) or start < 0:\n",
    "            continue\n",
    "\n",
    "        signal_seg = signal[start:end]\n",
    "        signal_seg = min_max_normalization(signal=signal_seg)\n",
    "\n",
    "        if ann_label[i] in AAMI_MIT:\n",
    "            # 如果类别数量等于1，打印此类别\n",
    "            label_seg += ann_label[i]\n",
    "            data_seg.append(signal_seg)\n",
    "\n",
    "\n",
    "    return data_seg, label_seg"
   ],
   "id": "8313631f04e222e7",
   "outputs": [],
   "execution_count": 4
  },
  {
   "metadata": {
    "ExecuteTime": {
     "end_time": "2025-03-10T04:44:34.931706Z",
     "start_time": "2025-03-10T04:44:31.856443Z"
    }
   },
   "cell_type": "code",
   "source": [
    "data_ls = []\n",
    "label_ls = []\n",
    "for i in range(len(dat_files)):\n",
    "    ecg_hea = wfdb.rdheader(data_folder + '/' + dat_files[i], rd_segments=False)\n",
    "    fs = ecg_hea.fs  # 采样率\n",
    "    ecg_channel = np.where(np.array(ecg_hea.sig_name) == 'MLII')[0]\n",
    "\n",
    "\n",
    "    if ecg_channel.size > 0:\n",
    "        record = wfdb.rdrecord(data_folder + '/' + dat_files[i], sampfrom=0, physical=True, channels=ecg_channel.tolist())\n",
    "        ann = wfdb.rdann(data_folder + '/' + dat_files[i], 'atr')\n",
    "\n",
    "        signal = record.p_signal\n",
    "        r_peaks = ann.sample\n",
    "        labels = ann.symbol\n",
    "\n",
    "        segments_data, segments_label = data_seg(signal, r_peaks, labels, fs)\n",
    "\n",
    "        data_ls = data_ls + segments_data\n",
    "        label_ls = label_ls + segments_label\n"
   ],
   "id": "66842c391ed6e59a",
   "outputs": [],
   "execution_count": 5
  },
  {
   "metadata": {
    "ExecuteTime": {
     "end_time": "2025-03-10T04:44:35.089064Z",
     "start_time": "2025-03-10T04:44:34.963424Z"
    }
   },
   "cell_type": "code",
   "source": [
    "data_ls = np.array(data_ls)\n",
    "label_ls = np.array(label_ls)\n",
    "print(data_ls.shape, label_ls.shape)"
   ],
   "id": "b0283c1454cacdf7",
   "outputs": [
    {
     "name": "stdout",
     "output_type": "stream",
     "text": [
      "(97198, 360) (97198,)\n"
     ]
    }
   ],
   "execution_count": 6
  },
  {
   "metadata": {
    "ExecuteTime": {
     "end_time": "2025-03-10T04:44:35.198848Z",
     "start_time": "2025-03-10T04:44:35.177019Z"
    }
   },
   "cell_type": "code",
   "source": [
    "from collections import Counter\n",
    "\n",
    "count_dict = Counter(label_ls)\n",
    "\n",
    "print(count_dict)"
   ],
   "id": "a1f91a5440cb2155",
   "outputs": [
    {
     "name": "stdout",
     "output_type": "stream",
     "text": [
      "Counter({'N': 74749, 'L': 8071, 'R': 7255, 'V': 7123})\n"
     ]
    }
   ],
   "execution_count": 7
  },
  {
   "metadata": {
    "ExecuteTime": {
     "end_time": "2025-03-10T04:44:35.488175Z",
     "start_time": "2025-03-10T04:44:35.276563Z"
    }
   },
   "cell_type": "code",
   "source": [
    "np.save('mit_adb_data.npy', data_ls)\n",
    "np.save('mit_adb_label.npy', label_ls)"
   ],
   "id": "e58559d4ab3056d4",
   "outputs": [],
   "execution_count": 8
  },
  {
   "metadata": {
    "ExecuteTime": {
     "end_time": "2025-03-10T04:44:35.519904Z",
     "start_time": "2025-03-10T04:44:35.503876Z"
    }
   },
   "cell_type": "code",
   "source": [
    "from datetime import datetime\n",
    "\n",
    "# 获取当前时间\n",
    "current_time = datetime.now()\n",
    "\n",
    "# 打印当前时间\n",
    "print(\"当前时间：\", current_time.strftime(\"%Y-%m-%d %H:%M:%S\"))\n"
   ],
   "id": "2b9001fcf36559df",
   "outputs": [
    {
     "name": "stdout",
     "output_type": "stream",
     "text": [
      "当前时间： 2025-03-10 12:44:35\n"
     ]
    }
   ],
   "execution_count": 9
  },
  {
   "metadata": {
    "ExecuteTime": {
     "end_time": "2025-03-10T04:44:35.583834Z",
     "start_time": "2025-03-10T04:44:35.578574Z"
    }
   },
   "cell_type": "code",
   "source": [
    "adb_data = np.load('mit_adb_data.npy')\n",
    "adb_label = np.load('mit_adb_label.npy')\n",
    "\n",
    "counter_adb = Counter(adb_label)\n",
    "print('adb count: ', counter_adb)\n",
    "\n",
    "label_map = {'L': 0, 'N': 1, 'R': 2, 'V': 3}\n",
    "\n",
    "adb_label = np.vectorize(label_map.get)(adb_label)\n",
    "print('adb count: ', Counter(adb_label))"
   ],
   "id": "2c052002240c31c5",
   "outputs": [],
   "execution_count": null
  },
  {
   "metadata": {},
   "cell_type": "code",
   "outputs": [],
   "execution_count": null,
   "source": [
    "data = []\n",
    "labels = []\n",
    "for i in range(4):\n",
    "    indices = np.where(adb_label == i)[0]\n",
    "    sel_indices = np.random.choice(indices, size=7000, replace=False)\n",
    "    class_data = adb_data[sel_indices]\n",
    "    class_label = adb_label[sel_indices]\n",
    "    data.append(class_data)\n",
    "    labels.extend([class_label])\n",
    "\n",
    "data = np.array(np.concatenate(data, axis=0))\n",
    "labels = np.concatenate(labels)\n",
    "print(data.shape, labels.shape)"
   ],
   "id": "b2fc5fd2eb218821"
  },
  {
   "metadata": {},
   "cell_type": "code",
   "outputs": [],
   "execution_count": null,
   "source": [
    "# 打乱数据和标签，保持对应关系\n",
    "x_shuffled, y_shuffled = shuffle(data, labels, random_state=2025)\n",
    "print(x_shuffled.shape)  #\n",
    "print(y_shuffled.shape)  #\n",
    "\n",
    "x_train, x_test, y_train, y_test = train_test_split(x_shuffled, y_shuffled, test_size=0.1, random_state=2025)\n",
    "print(Counter(y_train))\n",
    "print(Counter(y_test))"
   ],
   "id": "8c4919ea2d361a6d"
  },
  {
   "metadata": {},
   "cell_type": "code",
   "outputs": [],
   "execution_count": null,
   "source": [
    "np.save('adb_train_data.npy', x_train)\n",
    "np.save('adb_train_label.npy', y_train)\n",
    "np.save('adb_test_data.npy', x_test)\n",
    "np.save('adb_test_label.npy', y_test)"
   ],
   "id": "5399024d356265eb"
  },
  {
   "metadata": {},
   "cell_type": "code",
   "outputs": [],
   "execution_count": null,
   "source": [
    "from datetime import datetime\n",
    "\n",
    "# 获取当前时间\n",
    "current_time = datetime.now()\n",
    "\n",
    "# 打印当前时间\n",
    "print(\"当前时间：\", current_time.strftime(\"%Y-%m-%d %H:%M:%S\"))"
   ],
   "id": "1f8c59cc25700ecf"
  }
 ],
 "metadata": {
  "kernelspec": {
   "display_name": "Python 3",
   "language": "python",
   "name": "python3"
  },
  "language_info": {
   "codemirror_mode": {
    "name": "ipython",
    "version": 2
   },
   "file_extension": ".py",
   "mimetype": "text/x-python",
   "name": "python",
   "nbconvert_exporter": "python",
   "pygments_lexer": "ipython2",
   "version": "2.7.6"
  }
 },
 "nbformat": 4,
 "nbformat_minor": 5
}
