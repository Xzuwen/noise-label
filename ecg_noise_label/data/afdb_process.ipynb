{
 "cells": [
  {
   "cell_type": "code",
   "id": "initial_id",
   "metadata": {
    "collapsed": true,
    "ExecuteTime": {
     "end_time": "2025-03-17T06:09:50.988711Z",
     "start_time": "2025-03-17T06:09:35.032454Z"
    }
   },
   "source": [
    "import pandas as pd\n",
    "import wfdb\n",
    "import os\n",
    "import glob\n",
    "from collections import Counter\n",
    "import numpy as np\n",
    "from scipy.interpolate import interp1d\n",
    "import torch\n",
    "from torch import tensor\n",
    "import matplotlib.pyplot as plt\n",
    "import pywt"
   ],
   "outputs": [],
   "execution_count": 1
  },
  {
   "cell_type": "code",
   "source": [
    "def WTfilt_1d(sig):\n",
    "    \"\"\"\n",
    "    对信号进行小波变换滤波\n",
    "    :param sig: 输入信号，1-d array\n",
    "    :return: 小波滤波后的信号，1-d array\n",
    "    \"\"\"\n",
    "    coeffs = pywt.wavedec(sig, 'db6', level=9)\n",
    "    coeffs[-1] = np.zeros(len(coeffs[-1]))\n",
    "    coeffs[-2] = np.zeros(len(coeffs[-2]))\n",
    "    coeffs[0] = np.zeros(len(coeffs[0]))\n",
    "    sig_filt = pywt.waverec(coeffs, 'db6')\n",
    "    return sig_filt"
   ],
   "metadata": {
    "collapsed": false,
    "ExecuteTime": {
     "end_time": "2025-03-17T06:09:51.003900Z",
     "start_time": "2025-03-17T06:09:50.996327Z"
    }
   },
   "id": "f97fdb90cfee931b",
   "outputs": [],
   "execution_count": 2
  },
  {
   "cell_type": "code",
   "source": [
    "# def Z_ScoreNormalization(data):\n",
    "#     mean = np.mean(data, axis=0)\n",
    "#     std_dev = np.std(data, axis=0)\n",
    "#     normalized_data = (data - mean) / std_dev\n",
    "#     return normalized_data\n",
    "\n",
    "def min_max_normalization(signal, new_min=0, new_max=1):\n",
    "    signal = np.array(signal)\n",
    "    min_val = np.min(signal)\n",
    "    max_val = np.max(signal)\n",
    "\n",
    "    if max_val == min_val:\n",
    "        return np.zeros_like(signal)  # 避免除零错误，所有值相同则返回全零\n",
    "\n",
    "    norm_signal = (signal - min_val) / (max_val - min_val)  # 归一化到 [0,1]\n",
    "    norm_signal = norm_signal * (new_max - new_min) + new_min  # 缩放到 [new_min, new_max]\n",
    "\n",
    "    return norm_signal"
   ],
   "metadata": {
    "collapsed": false,
    "ExecuteTime": {
     "end_time": "2025-03-17T06:09:51.096837Z",
     "start_time": "2025-03-17T06:09:51.082029Z"
    }
   },
   "id": "50373b97bea30d9e",
   "outputs": [],
   "execution_count": 3
  },
  {
   "cell_type": "code",
   "source": [
    "def Segmentation(sig, size, sample, aux_note):\n",
    "    \n",
    "    j=0;\n",
    "    records_N = []\n",
    "    records_AF = []\n",
    "\n",
    "    for i in range(0, len(sample)-1):\n",
    "\n",
    "        if (aux_note[i]=='(N' or aux_note[i]=='(J'):\n",
    "            j = sample[i]\n",
    "            while(sample[i+1]-j >= size):\n",
    "                data = sig[np.arange(j, j+size)]\n",
    "                if len(data) != 0:\n",
    "                    data = min_max_normalization(data)\n",
    "                    records_N.append(data)              \n",
    "                j += size\n",
    "\n",
    "        elif (aux_note[i]=='(AFIB' or aux_note[i]=='(AFL'):\n",
    "            j = sample[i]\n",
    "            while(sample[i+1]-j >= size):\n",
    "                data = sig[np.arange(j, j+size)]\n",
    "                if len(data) != 0:\n",
    "                    data = min_max_normalization(data)\n",
    "                    records_AF.append(data)\n",
    "                j += size\n",
    "\n",
    "    return np.array(records_N), np.array(records_AF)"
   ],
   "metadata": {
    "collapsed": false,
    "ExecuteTime": {
     "end_time": "2025-03-17T06:09:51.128349Z",
     "start_time": "2025-03-17T06:09:51.112766Z"
    }
   },
   "id": "bd3c9dbe3d874806",
   "outputs": [],
   "execution_count": 4
  },
  {
   "cell_type": "code",
   "source": [
    "\"\"\"\n",
    "训练集划分\n",
    "\"\"\"\n",
    "path = './data/'\n",
    "Test_file = [path + '08215.dat', path + '08219.dat', path + '08378.dat', path + '08405.dat', path + '08434.dat', path + '08455.dat']\n",
    "files = set(glob.glob('./data/*.dat'))\n",
    "files = [addr.replace('\\\\', '/') for addr in files]\n",
    "print(files)\n",
    "\n",
    "Train_file = sorted(list(set(files).difference(set(Test_file))))\n",
    "print(Train_file)\n",
    "Train_Records_N = []\n",
    "Train_Records_AF = []\n",
    "Train_Records_info = []\n",
    "\n",
    "for f in Train_file:                                       \n",
    "    signal, fields = wfdb.rdsamp(f[:-4], channels=[1])  \n",
    "    ann = wfdb.rdann(f[:-4], 'atr')\n",
    "    \n",
    "    sig = signal.squeeze(1)\n",
    "    sample = ann.sample\n",
    "    aux_note = ann.aux_note\n",
    "    \n",
    "    # sig = WTfilt_1d(sig)\n",
    "    \n",
    "    data_N, data_AF = Segmentation(sig, 2500, sample, aux_note)\n",
    "    \n",
    "    if len(data_N)!=0:\n",
    "        Train_Records_N.append(data_N)\n",
    "    if len(data_AF)!=0:\n",
    "        Train_Records_AF.append(data_AF)\n",
    "    \n",
    "    info = {'name': ann.record_name, 'N_num': len(data_N), 'AF_num': len(data_AF)}\n",
    "    Train_Records_info.append(info)\n",
    "\n",
    "X_Train_N = np.concatenate(Train_Records_N, axis=0)\n",
    "X_Train_AF = np.concatenate(Train_Records_AF, axis=0)\n",
    "\n",
    "indices = np.arange(len(X_Train_N))\n",
    "sel_indices = np.random.choice(indices, size=len(X_Train_AF), replace=False)\n",
    "X_Train_N = X_Train_N[sel_indices]\n",
    "print(\"N: \", X_Train_N.shape,'\\n','AF: ', X_Train_AF.shape)\n",
    "train_label_N = np.zeros(X_Train_N.shape[0])\n",
    "train_label_AF = np.ones(X_Train_AF.shape[0])\n",
    "\n",
    "Data_train = np.concatenate((X_Train_N,  X_Train_AF), axis=0)\n",
    "Label_train = np.concatenate((train_label_N,  train_label_AF), axis=0)"
   ],
   "metadata": {
    "collapsed": false,
    "ExecuteTime": {
     "end_time": "2025-03-17T06:09:57.083852Z",
     "start_time": "2025-03-17T06:09:51.146Z"
    }
   },
   "id": "62609523df06855b",
   "outputs": [
    {
     "name": "stdout",
     "output_type": "stream",
     "text": [
      "['./data/04015.dat', './data/06426.dat', './data/07859.dat', './data/05091.dat', './data/07910.dat', './data/08378.dat', './data/04048.dat', './data/07879.dat', './data/08215.dat', './data/04936.dat', './data/04908.dat', './data/07162.dat', './data/05121.dat', './data/04746.dat', './data/08405.dat', './data/05261.dat', './data/04126.dat', './data/06453.dat', './data/08219.dat', './data/04043.dat', './data/08455.dat', './data/08434.dat', './data/06995.dat']\n",
      "['./data/04015.dat', './data/04043.dat', './data/04048.dat', './data/04126.dat', './data/04746.dat', './data/04908.dat', './data/04936.dat', './data/05091.dat', './data/05121.dat', './data/05261.dat', './data/06426.dat', './data/06453.dat', './data/06995.dat', './data/07162.dat', './data/07859.dat', './data/07879.dat', './data/07910.dat']\n",
      "N:  (13584, 2500) \n",
      " AF:  (13584, 2500)\n"
     ]
    }
   ],
   "execution_count": 5
  },
  {
   "cell_type": "code",
   "source": [
    "np.save('./afdb/train_data.npy', Data_train)\n",
    "np.save('./afdb/train_label.npy', Label_train)"
   ],
   "metadata": {
    "collapsed": false,
    "ExecuteTime": {
     "end_time": "2025-03-17T06:09:57.553758Z",
     "start_time": "2025-03-17T06:09:57.116268Z"
    }
   },
   "id": "b17e24797c6ebca9",
   "outputs": [],
   "execution_count": 6
  },
  {
   "cell_type": "code",
   "source": [
    "\"\"\"\n",
    "测试集划分\n",
    "\"\"\"\n",
    "Test_Records_N = []\n",
    "Test_Records_AF = []\n",
    "Test_Records_info = []\n",
    "\n",
    "for f in list(Test_file):                                        \n",
    "    signal, fields = wfdb.rdsamp(f[:-4], channels=[1]) \n",
    "    ann = wfdb.rdann(f[:-4], 'atr')\n",
    "    \n",
    "    sig = signal.squeeze(1)\n",
    "    sample = ann.sample\n",
    "    aux_note = ann.aux_note\n",
    "    \n",
    "    # sig = WTfilt_1d(sig)\n",
    "    \n",
    "    data_N, data_AF = Segmentation(sig, 2500, sample, aux_note)\n",
    "    \n",
    "    if len(data_N)!=0:\n",
    "        Test_Records_N.append(data_N)\n",
    "    if len(data_AF)!=0:\n",
    "        Test_Records_AF.append(data_AF)\n",
    "    \n",
    "    info = {'name': ann.record_name, 'N_num': len(data_N), 'AF_num': len(data_AF)}\n",
    "    Test_Records_info.append(info)\n",
    "    \n",
    "X_Test_N = np.concatenate(Test_Records_N, axis=0)\n",
    "X_Test_AF = np.concatenate(Test_Records_AF, axis=0)\n",
    "\n",
    "indices = np.arange(len(X_Test_N))\n",
    "sel_indices = np.random.choice(indices, size=len(X_Test_AF), replace=False)\n",
    "X_Test_N = X_Test_N[sel_indices]\n",
    "print(\"N: \", X_Test_N.shape,'\\n','AF: ', X_Test_AF.shape)\n",
    "test_label_N = np.zeros(X_Test_N.shape[0])\n",
    "test_label_AF = np.ones(X_Test_AF.shape[0])\n",
    "\n",
    "Data_test = np.concatenate((X_Test_N,  X_Test_AF), axis=0)\n",
    "Label_test = np.concatenate((test_label_N,  test_label_AF), axis=0)"
   ],
   "metadata": {
    "collapsed": false,
    "ExecuteTime": {
     "end_time": "2025-03-17T06:09:59.265419Z",
     "start_time": "2025-03-17T06:09:57.570960Z"
    }
   },
   "id": "bc4dd0e7f543592d",
   "outputs": [
    {
     "name": "stdout",
     "output_type": "stream",
     "text": [
      "N:  (2419, 2500) \n",
      " AF:  (2419, 2500)\n"
     ]
    }
   ],
   "execution_count": 7
  },
  {
   "cell_type": "code",
   "source": [
    "np.save('./afdb/test_data.npy', Data_test)\n",
    "np.save('./afdb/test_label.npy', Label_test)"
   ],
   "metadata": {
    "collapsed": false,
    "ExecuteTime": {
     "end_time": "2025-03-17T06:09:59.375560Z",
     "start_time": "2025-03-17T06:09:59.297766Z"
    }
   },
   "id": "d5c93b6335ff055a",
   "outputs": [],
   "execution_count": 8
  },
  {
   "cell_type": "code",
   "source": [
    "import time\n",
    "print(time.ctime())"
   ],
   "metadata": {
    "collapsed": false,
    "ExecuteTime": {
     "end_time": "2025-03-17T06:09:59.421715Z",
     "start_time": "2025-03-17T06:09:59.408494Z"
    }
   },
   "id": "827eaab7b7bd7543",
   "outputs": [
    {
     "name": "stdout",
     "output_type": "stream",
     "text": [
      "Mon Mar 17 14:09:59 2025\n"
     ]
    }
   ],
   "execution_count": 9
  },
  {
   "cell_type": "code",
   "source": [],
   "metadata": {
    "collapsed": false,
    "ExecuteTime": {
     "end_time": "2025-03-17T06:09:59.468441Z",
     "start_time": "2025-03-17T06:09:59.454197Z"
    }
   },
   "id": "3fd25c37dae0a11b",
   "outputs": [],
   "execution_count": null
  }
 ],
 "metadata": {
  "kernelspec": {
   "display_name": "Python 3",
   "language": "python",
   "name": "python3"
  },
  "language_info": {
   "codemirror_mode": {
    "name": "ipython",
    "version": 2
   },
   "file_extension": ".py",
   "mimetype": "text/x-python",
   "name": "python",
   "nbconvert_exporter": "python",
   "pygments_lexer": "ipython2",
   "version": "2.7.6"
  }
 },
 "nbformat": 4,
 "nbformat_minor": 5
}
